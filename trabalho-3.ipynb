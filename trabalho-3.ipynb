{
 "cells": [
  {
   "cell_type": "code",
   "execution_count": 27,
   "id": "d70ed938-ce86-4f57-a215-5714b8ad621b",
   "metadata": {},
   "outputs": [],
   "source": [
    "import torch\n",
    "import torchvision\n",
    "import torchvision.transforms as transforms\n",
    "import torch.nn.functional as F"
   ]
  },
  {
   "cell_type": "code",
   "execution_count": 2,
   "id": "1b623361-81fd-4c57-91f4-bce710d75a6a",
   "metadata": {},
   "outputs": [
    {
     "name": "stdout",
     "output_type": "stream",
     "text": [
      "Files already downloaded and verified\n",
      "Files already downloaded and verified\n",
      "Number of training examples: 40000\n",
      "Number of validation examples: 10000\n",
      "Number of test examples: 10000\n"
     ]
    }
   ],
   "source": [
    "class CIFAR10():  #@save    \n",
    "    def __init__(self, root, resize=(224, 224)):    \n",
    "        trans = transforms.Compose([transforms.Resize(resize),\n",
    "                                    transforms.ToTensor(),\n",
    "                                    transforms.Normalize((0.5, 0.5, 0.5), (0.5, 0.5, 0.5))])\n",
    "        self.train = torchvision.datasets.CIFAR10(\n",
    "            root=root, train=True, transform=trans, download=True)\n",
    "        # use 20% of training data for validation\n",
    "        train_set_size = int(len(self.train) * 0.8)\n",
    "        valid_set_size = len(self.train) - train_set_size\n",
    "         # split the train set into two\n",
    "        seed = torch.Generator().manual_seed(42)\n",
    "        self.train, self.val = torch.utils.data.random_split(self.train, [train_set_size, valid_set_size], generator=seed)\n",
    "        self.test = torchvision.datasets.CIFAR10(\n",
    "            root=root, train=False, transform=trans, download=True)\n",
    "        \n",
    "dataset = CIFAR10(root=\"./data/\")\n",
    "\n",
    "train_dataloader = torch.utils.data.DataLoader(dataset.train, batch_size=64, shuffle=True)\n",
    "val_dataloader = torch.utils.data.DataLoader(dataset.val, batch_size=64, shuffle=False)\n",
    "test_dataloader = torch.utils.data.DataLoader(dataset.test, batch_size=64, shuffle=False)\n",
    "\n",
    "print(f\"Number of training examples: {len(dataset.train)}\")\n",
    "print(f\"Number of validation examples: {len(dataset.val)}\")\n",
    "print(f\"Number of test examples: {len(dataset.test)}\")"
   ]
  },
  {
   "cell_type": "code",
   "execution_count": 25,
   "id": "6196af7a-078f-492b-8d07-c980996b9410",
   "metadata": {},
   "outputs": [
    {
     "name": "stdout",
     "output_type": "stream",
     "text": [
      "Requirement already satisfied: pytorch-lightning in /home/guilherme/miniconda3/envs/d2l/lib/python3.9/site-packages (2.0.7)\n",
      "Requirement already satisfied: numpy>=1.17.2 in /home/guilherme/miniconda3/envs/d2l/lib/python3.9/site-packages (from pytorch-lightning) (1.23.5)\n",
      "Requirement already satisfied: torch>=1.11.0 in /home/guilherme/miniconda3/envs/d2l/lib/python3.9/site-packages (from pytorch-lightning) (2.0.0)\n",
      "Requirement already satisfied: tqdm>=4.57.0 in /home/guilherme/miniconda3/envs/d2l/lib/python3.9/site-packages (from pytorch-lightning) (4.67.1)\n",
      "Requirement already satisfied: PyYAML>=5.4 in /home/guilherme/miniconda3/envs/d2l/lib/python3.9/site-packages (from pytorch-lightning) (6.0.2)\n",
      "Requirement already satisfied: fsspec>2021.06.0 in /home/guilherme/miniconda3/envs/d2l/lib/python3.9/site-packages (from fsspec[http]>2021.06.0->pytorch-lightning) (2024.12.0)\n",
      "Requirement already satisfied: torchmetrics>=0.7.0 in /home/guilherme/miniconda3/envs/d2l/lib/python3.9/site-packages (from pytorch-lightning) (1.7.2)\n",
      "Requirement already satisfied: packaging>=17.1 in /home/guilherme/miniconda3/envs/d2l/lib/python3.9/site-packages (from pytorch-lightning) (24.2)\n",
      "Requirement already satisfied: typing-extensions>=4.0.0 in /home/guilherme/miniconda3/envs/d2l/lib/python3.9/site-packages (from pytorch-lightning) (4.13.1)\n",
      "Requirement already satisfied: lightning-utilities>=0.7.0 in /home/guilherme/miniconda3/envs/d2l/lib/python3.9/site-packages (from pytorch-lightning) (0.14.3)\n",
      "Requirement already satisfied: aiohttp!=4.0.0a0,!=4.0.0a1 in /home/guilherme/miniconda3/envs/d2l/lib/python3.9/site-packages (from fsspec[http]>2021.06.0->pytorch-lightning) (3.12.12)\n",
      "Requirement already satisfied: setuptools in /home/guilherme/miniconda3/envs/d2l/lib/python3.9/site-packages (from lightning-utilities>=0.7.0->pytorch-lightning) (75.8.0)\n",
      "Requirement already satisfied: filelock in /home/guilherme/miniconda3/envs/d2l/lib/python3.9/site-packages (from torch>=1.11.0->pytorch-lightning) (3.18.0)\n",
      "Requirement already satisfied: sympy in /home/guilherme/miniconda3/envs/d2l/lib/python3.9/site-packages (from torch>=1.11.0->pytorch-lightning) (1.13.3)\n",
      "Requirement already satisfied: networkx in /home/guilherme/miniconda3/envs/d2l/lib/python3.9/site-packages (from torch>=1.11.0->pytorch-lightning) (3.2.1)\n",
      "Requirement already satisfied: jinja2 in /home/guilherme/miniconda3/envs/d2l/lib/python3.9/site-packages (from torch>=1.11.0->pytorch-lightning) (3.1.6)\n",
      "Requirement already satisfied: nvidia-cuda-nvrtc-cu11==11.7.99 in /home/guilherme/miniconda3/envs/d2l/lib/python3.9/site-packages (from torch>=1.11.0->pytorch-lightning) (11.7.99)\n",
      "Requirement already satisfied: nvidia-cuda-runtime-cu11==11.7.99 in /home/guilherme/miniconda3/envs/d2l/lib/python3.9/site-packages (from torch>=1.11.0->pytorch-lightning) (11.7.99)\n",
      "Requirement already satisfied: nvidia-cuda-cupti-cu11==11.7.101 in /home/guilherme/miniconda3/envs/d2l/lib/python3.9/site-packages (from torch>=1.11.0->pytorch-lightning) (11.7.101)\n",
      "Requirement already satisfied: nvidia-cudnn-cu11==8.5.0.96 in /home/guilherme/miniconda3/envs/d2l/lib/python3.9/site-packages (from torch>=1.11.0->pytorch-lightning) (8.5.0.96)\n",
      "Requirement already satisfied: nvidia-cublas-cu11==11.10.3.66 in /home/guilherme/miniconda3/envs/d2l/lib/python3.9/site-packages (from torch>=1.11.0->pytorch-lightning) (11.10.3.66)\n",
      "Requirement already satisfied: nvidia-cufft-cu11==10.9.0.58 in /home/guilherme/miniconda3/envs/d2l/lib/python3.9/site-packages (from torch>=1.11.0->pytorch-lightning) (10.9.0.58)\n",
      "Requirement already satisfied: nvidia-curand-cu11==10.2.10.91 in /home/guilherme/miniconda3/envs/d2l/lib/python3.9/site-packages (from torch>=1.11.0->pytorch-lightning) (10.2.10.91)\n",
      "Requirement already satisfied: nvidia-cusolver-cu11==11.4.0.1 in /home/guilherme/miniconda3/envs/d2l/lib/python3.9/site-packages (from torch>=1.11.0->pytorch-lightning) (11.4.0.1)\n",
      "Requirement already satisfied: nvidia-cusparse-cu11==11.7.4.91 in /home/guilherme/miniconda3/envs/d2l/lib/python3.9/site-packages (from torch>=1.11.0->pytorch-lightning) (11.7.4.91)\n",
      "Requirement already satisfied: nvidia-nccl-cu11==2.14.3 in /home/guilherme/miniconda3/envs/d2l/lib/python3.9/site-packages (from torch>=1.11.0->pytorch-lightning) (2.14.3)\n",
      "Requirement already satisfied: nvidia-nvtx-cu11==11.7.91 in /home/guilherme/miniconda3/envs/d2l/lib/python3.9/site-packages (from torch>=1.11.0->pytorch-lightning) (11.7.91)\n",
      "Requirement already satisfied: triton==2.0.0 in /home/guilherme/miniconda3/envs/d2l/lib/python3.9/site-packages (from torch>=1.11.0->pytorch-lightning) (2.0.0)\n",
      "Requirement already satisfied: wheel in /home/guilherme/miniconda3/envs/d2l/lib/python3.9/site-packages (from nvidia-cublas-cu11==11.10.3.66->torch>=1.11.0->pytorch-lightning) (0.45.1)\n",
      "Requirement already satisfied: cmake in /home/guilherme/miniconda3/envs/d2l/lib/python3.9/site-packages (from triton==2.0.0->torch>=1.11.0->pytorch-lightning) (4.0.0)\n",
      "Requirement already satisfied: lit in /home/guilherme/miniconda3/envs/d2l/lib/python3.9/site-packages (from triton==2.0.0->torch>=1.11.0->pytorch-lightning) (18.1.8)\n",
      "Requirement already satisfied: aiohappyeyeballs>=2.5.0 in /home/guilherme/miniconda3/envs/d2l/lib/python3.9/site-packages (from aiohttp!=4.0.0a0,!=4.0.0a1->fsspec[http]>2021.06.0->pytorch-lightning) (2.6.1)\n",
      "Requirement already satisfied: aiosignal>=1.1.2 in /home/guilherme/miniconda3/envs/d2l/lib/python3.9/site-packages (from aiohttp!=4.0.0a0,!=4.0.0a1->fsspec[http]>2021.06.0->pytorch-lightning) (1.3.2)\n",
      "Requirement already satisfied: async-timeout<6.0,>=4.0 in /home/guilherme/miniconda3/envs/d2l/lib/python3.9/site-packages (from aiohttp!=4.0.0a0,!=4.0.0a1->fsspec[http]>2021.06.0->pytorch-lightning) (5.0.1)\n",
      "Requirement already satisfied: attrs>=17.3.0 in /home/guilherme/miniconda3/envs/d2l/lib/python3.9/site-packages (from aiohttp!=4.0.0a0,!=4.0.0a1->fsspec[http]>2021.06.0->pytorch-lightning) (25.3.0)\n",
      "Requirement already satisfied: frozenlist>=1.1.1 in /home/guilherme/miniconda3/envs/d2l/lib/python3.9/site-packages (from aiohttp!=4.0.0a0,!=4.0.0a1->fsspec[http]>2021.06.0->pytorch-lightning) (1.7.0)\n",
      "Requirement already satisfied: multidict<7.0,>=4.5 in /home/guilherme/miniconda3/envs/d2l/lib/python3.9/site-packages (from aiohttp!=4.0.0a0,!=4.0.0a1->fsspec[http]>2021.06.0->pytorch-lightning) (6.4.4)\n",
      "Requirement already satisfied: propcache>=0.2.0 in /home/guilherme/miniconda3/envs/d2l/lib/python3.9/site-packages (from aiohttp!=4.0.0a0,!=4.0.0a1->fsspec[http]>2021.06.0->pytorch-lightning) (0.3.2)\n",
      "Requirement already satisfied: yarl<2.0,>=1.17.0 in /home/guilherme/miniconda3/envs/d2l/lib/python3.9/site-packages (from aiohttp!=4.0.0a0,!=4.0.0a1->fsspec[http]>2021.06.0->pytorch-lightning) (1.20.1)\n",
      "Requirement already satisfied: MarkupSafe>=2.0 in /home/guilherme/miniconda3/envs/d2l/lib/python3.9/site-packages (from jinja2->torch>=1.11.0->pytorch-lightning) (3.0.2)\n",
      "Requirement already satisfied: mpmath<1.4,>=1.1.0 in /home/guilherme/miniconda3/envs/d2l/lib/python3.9/site-packages (from sympy->torch>=1.11.0->pytorch-lightning) (1.3.0)\n",
      "Requirement already satisfied: idna>=2.0 in /home/guilherme/miniconda3/envs/d2l/lib/python3.9/site-packages (from yarl<2.0,>=1.17.0->aiohttp!=4.0.0a0,!=4.0.0a1->fsspec[http]>2021.06.0->pytorch-lightning) (3.10)\n",
      "Note: you may need to restart the kernel to use updated packages.\n"
     ]
    }
   ],
   "source": [
    "%pip install pytorch-lightning\n",
    "import pytorch_lightning as pl\n",
    "import torch.nn as nn\n",
    "from torchmetrics.functional import accuracy\n",
    "\n",
    "# The model is passed as an argument to the `LightModel` class.\n",
    "class LightModel(pl.LightningModule):\n",
    "\tdef __init__(self,model,lr=1e-5):\n",
    "\t\tsuper().__init__()\n",
    "\t\tself.model = model\n",
    "\t\tself.lr = lr\n",
    "\tdef training_step(self, batch):\n",
    "\t\tX, y = batch\n",
    "\t\ty_hat = self.model(X)\n",
    "\t\tloss = nn.functional.cross_entropy(y_hat, y)\n",
    "\t\tself.log(\"train_loss\", loss)\n",
    "\t\treturn loss\n",
    "    \n",
    "\tdef forward(self, x):\n",
    "\t\treturn self.model(x)\n",
    "\n",
    "\tdef validation_step(self, batch, batch_idx):\n",
    "\t\tx, y = batch\n",
    "\t\tlogits = self(x)\n",
    "\t\tloss = F.cross_entropy(logits, y)\n",
    "\t\tpreds = torch.argmax(logits, dim=1)\n",
    "\t\tacc = (preds == y).float().mean()\n",
    "\t\tself.log('val_loss', loss, prog_bar=True)\n",
    "\t\tself.log('val_acc', acc, prog_bar=True)\n",
    "\t\treturn loss\n",
    "\n",
    "\tdef test_step(self, batch):\n",
    "\t\tX, y = batch\n",
    "\t\ty_hat = self.model(X)\n",
    "\t\tpreds = torch.argmax(y_hat, dim=1)\n",
    "\t\tacc = accuracy(preds, y, task=\"multiclass\", num_classes=10)\n",
    "\t\tself.log(\"test_acc\", acc)\n",
    "\t\tloss = nn.functional.cross_entropy(y_hat, y)\t\t\n",
    "\t\tself.log(\"test_loss\", loss)\t\t\n",
    "\tdef configure_optimizers(self):\n",
    "\t\toptimizer = torch.optim.Adam(self.parameters(), self.lr)\n",
    "\t\treturn optimizer\n",
    "\n",
    "\n",
    "arch = nn.Sequential(\n",
    "    nn.Flatten(),\n",
    "    nn.Linear(3 * 224 * 224, 512),\n",
    "    nn.ReLU(),\n",
    "    nn.Linear(512, 256),\n",
    "    nn.ReLU(),\n",
    "    nn.Linear(256, 10)\n",
    ")\n",
    "\n",
    "mlp = LightModel(arch)"
   ]
  },
  {
   "cell_type": "code",
   "execution_count": null,
   "id": "09def655-dfa5-49cf-b675-93ec2ae4a69b",
   "metadata": {},
   "outputs": [
    {
     "name": "stderr",
     "output_type": "stream",
     "text": [
      "GPU available: False, used: False\n",
      "TPU available: False, using: 0 TPU cores\n",
      "IPU available: False, using: 0 IPUs\n",
      "HPU available: False, using: 0 HPUs\n",
      "\n",
      "  | Name  | Type       | Params\n",
      "-------------------------------------\n",
      "0 | model | Sequential | 77.2 M\n",
      "-------------------------------------\n",
      "77.2 M    Trainable params\n",
      "0         Non-trainable params\n",
      "77.2 M    Total params\n",
      "308.819   Total estimated model params size (MB)\n"
     ]
    },
    {
     "data": {
      "application/vnd.jupyter.widget-view+json": {
       "model_id": "d13a6098ee984c4186c6e8a7f55c9d52",
       "version_major": 2,
       "version_minor": 0
      },
      "text/plain": [
       "Sanity Checking: 0it [00:00, ?it/s]"
      ]
     },
     "metadata": {},
     "output_type": "display_data"
    },
    {
     "name": "stderr",
     "output_type": "stream",
     "text": [
      "/home/guilherme/miniconda3/envs/d2l/lib/python3.9/site-packages/pytorch_lightning/trainer/connectors/data_connector.py:438: PossibleUserWarning: The dataloader, train_dataloader, does not have many workers which may be a bottleneck. Consider increasing the value of the `num_workers` argument` (try 8 which is the number of cpus on this machine) in the `DataLoader` init to improve performance.\n",
      "  rank_zero_warn(\n"
     ]
    },
    {
     "data": {
      "application/vnd.jupyter.widget-view+json": {
       "model_id": "184ec8a71ccb49888226471fc997a0da",
       "version_major": 2,
       "version_minor": 0
      },
      "text/plain": [
       "Training: 0it [00:00, ?it/s]"
      ]
     },
     "metadata": {},
     "output_type": "display_data"
    },
    {
     "data": {
      "application/vnd.jupyter.widget-view+json": {
       "model_id": "55d8b2acfdb24f028832fbbca25e4cfa",
       "version_major": 2,
       "version_minor": 0
      },
      "text/plain": [
       "Validation: 0it [00:00, ?it/s]"
      ]
     },
     "metadata": {},
     "output_type": "display_data"
    },
    {
     "data": {
      "application/vnd.jupyter.widget-view+json": {
       "model_id": "6b5f5f7022ff425c8e0536f1ce69d95c",
       "version_major": 2,
       "version_minor": 0
      },
      "text/plain": [
       "Validation: 0it [00:00, ?it/s]"
      ]
     },
     "metadata": {},
     "output_type": "display_data"
    }
   ],
   "source": [
    "from pytorch_lightning.callbacks import EarlyStopping\n",
    "from pytorch_lightning import Trainer\n",
    "\n",
    "early_stopping = EarlyStopping(\n",
    "    monitor='val_loss',  # metric to monitor\n",
    "    patience=5,          # epochs with no improvement after which training will stop\n",
    "    mode='min',          # mode for min loss; 'max' if maximizing metric\n",
    "    min_delta=0.001      # minimum change to qualify as an improvement\n",
    ")\n",
    "\n",
    "trainer = Trainer(callbacks=[early_stopping], max_epochs=50)\n",
    "trainer.fit(model=mlp, train_dataloaders=train_dataloader, val_dataloaders=val_dataloader)"
   ]
  },
  {
   "cell_type": "code",
   "execution_count": null,
   "id": "47fc9e7c-94a9-4135-914f-3a7ef0a68a99",
   "metadata": {},
   "outputs": [],
   "source": [
    "# Evaluate the model on the test dataset\n",
    "trainer.test(model=mlp, dataloaders=test_dataloader)"
   ]
  },
  {
   "cell_type": "code",
   "execution_count": null,
   "id": "3e307d8e-76c7-464b-b7dd-4477789b66e9",
   "metadata": {},
   "outputs": [],
   "source": [
    "from torchvision.models import vgg16\n",
    "vgg16_model = vgg16(weights=\"DEFAULT\", progress=True)\n",
    "\n",
    "for param in vgg16_model.parameters():\n",
    "\tparam.requires_grad = False\n",
    "\n",
    "\n",
    "vgg16_model.classifier = nn.Sequential(\n",
    "    nn.Flatten(),\n",
    "    nn.Linear(25088, 50), \n",
    "    nn.ReLU(),\n",
    "    nn.Linear(50, 20),\n",
    "    nn.ReLU(),\n",
    "    nn.Linear(20, 10)\n",
    ")\n",
    "\n",
    "print(vgg16_model)\n",
    "\n",
    "vgg16_lightmodel = LightModel(vgg16_model, lr=0.001)\n",
    "\n",
    "early_stopping = EarlyStopping(\n",
    "    monitor='val_loss',\n",
    "    patience=5,\n",
    "    mode='min',\n",
    "    min_delta=0.001\n",
    ")"
   ]
  },
  {
   "cell_type": "code",
   "execution_count": null,
   "id": "f29eef08-076a-48d5-8aed-9239865442c8",
   "metadata": {},
   "outputs": [],
   "source": [
    "trainer = Trainer(callbacks=[early_stopping], max_epochs=20)\n",
    "trainer.fit(model=vgg16_lightmodel, train_dataloaders=train_dataloader, val_dataloaders=val_dataloader)\n",
    "\n",
    "trainer.test(vgg16_lightmodel, dataloaders=test_dataloader)"
   ]
  }
 ],
 "metadata": {
  "kernelspec": {
   "display_name": "Python 3 (ipykernel)",
   "language": "python",
   "name": "python3"
  },
  "language_info": {
   "codemirror_mode": {
    "name": "ipython",
    "version": 3
   },
   "file_extension": ".py",
   "mimetype": "text/x-python",
   "name": "python",
   "nbconvert_exporter": "python",
   "pygments_lexer": "ipython3",
   "version": "3.9.21"
  }
 },
 "nbformat": 4,
 "nbformat_minor": 5
}
